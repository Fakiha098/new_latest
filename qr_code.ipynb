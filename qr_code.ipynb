{
 "cells": [
  {
   "cell_type": "code",
   "execution_count": 8,
   "metadata": {},
   "outputs": [],
   "source": [
    "import qrcode\n",
    "from PIL import Image\n",
    "\n",
    "qr_data = \"Hello, my name is Fakiha Arshad. I am a Python expert and machine learning enthusiast. \\\n",
    "I made a QR code generation. Follow me on LinkedIn and GitHub for more interesting projects/codes. \\\n",
    "Here are my links: \\\n",
    "https://www.linkedin.com/in/fakiha-arshad-812111302, \\\n",
    "https://github.com/Fakiha098.\"\n",
    "\n",
    "# Corrected class name to QRCode and fixed parameter types\n",
    "qr = qrcode.QRCode(box_size=10, border=5)\n",
    "\n",
    "# Add data to the QR code\n",
    "qr.add_data(qr_data)\n",
    "qr.make(fit=True)\n",
    "\n",
    "# Generate the QR code image\n",
    "image = qr.make_image(fill=\"black\", back_color=\"white\")\n",
    "\n",
    "# Save the image\n",
    "image.save(\"qr_image.png\")\n",
    "\n",
    "# Open the saved image (you need to use Image.open() to open an image file)\n",
    "img = Image.open(\"qr_image.png\")\n",
    "img.show()\n",
    "\n",
    "\n"
   ]
  }
 ],
 "metadata": {
  "kernelspec": {
   "display_name": ".venv",
   "language": "python",
   "name": "python3"
  },
  "language_info": {
   "codemirror_mode": {
    "name": "ipython",
    "version": 3
   },
   "file_extension": ".py",
   "mimetype": "text/x-python",
   "name": "python",
   "nbconvert_exporter": "python",
   "pygments_lexer": "ipython3",
   "version": "3.9.0"
  }
 },
 "nbformat": 4,
 "nbformat_minor": 2
}
